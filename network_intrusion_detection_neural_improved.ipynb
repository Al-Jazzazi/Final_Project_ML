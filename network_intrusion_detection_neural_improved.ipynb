{
  "nbformat": 4,
  "nbformat_minor": 0,
  "metadata": {
    "colab": {
      "provenance": [],
      "gpuType": "T4"
    },
    "kernelspec": {
      "name": "python3",
      "display_name": "Python 3"
    },
    "language_info": {
      "name": "python"
    },
    "accelerator": "GPU"
  },
  "cells": [
    {
      "cell_type": "code",
      "source": [
        "import kagglehub\n",
        "\n",
        "# Download latest version\n",
        "path = kagglehub.dataset_download(\"chethuhn/network-intrusion-dataset\")\n",
        "\n",
        "print(\"Path to dataset files:\", path)"
      ],
      "metadata": {
        "colab": {
          "base_uri": "https://localhost:8080/"
        },
        "id": "B3-RA8TqSijF",
        "outputId": "b914b127-47b8-4856-cae9-a91bd695f3fe"
      },
      "execution_count": 1,
      "outputs": [
        {
          "output_type": "stream",
          "name": "stdout",
          "text": [
            "Downloading from https://www.kaggle.com/api/v1/datasets/download/chethuhn/network-intrusion-dataset?dataset_version_number=1...\n"
          ]
        },
        {
          "output_type": "stream",
          "name": "stderr",
          "text": [
            "100%|██████████| 230M/230M [00:03<00:00, 75.0MB/s]"
          ]
        },
        {
          "output_type": "stream",
          "name": "stdout",
          "text": [
            "Extracting files...\n"
          ]
        },
        {
          "output_type": "stream",
          "name": "stderr",
          "text": [
            "\n"
          ]
        },
        {
          "output_type": "stream",
          "name": "stdout",
          "text": [
            "Path to dataset files: /root/.cache/kagglehub/datasets/chethuhn/network-intrusion-dataset/versions/1\n"
          ]
        }
      ]
    },
    {
      "cell_type": "code",
      "execution_count": 2,
      "metadata": {
        "id": "1xLAf3RCtt5e"
      },
      "outputs": [],
      "source": [
        "import kagglehub\n",
        "import os\n",
        "import pandas as pd\n",
        "import numpy as np\n",
        "from sklearn.model_selection import train_test_split\n",
        "from sklearn.preprocessing import LabelEncoder, StandardScaler\n",
        "from sklearn.metrics import confusion_matrix, classification_report\n",
        "import matplotlib.pyplot as plt\n",
        "from keras.models import Sequential\n",
        "from keras.layers import Dense, Dropout\n",
        "from keras.callbacks import EarlyStopping\n",
        "from sklearn.model_selection import GridSearchCV\n",
        "\n",
        "# Define all file names\n",
        "all_files = [\n",
        "    \"Friday-WorkingHours-Morning.pcap_ISCX.csv\",\n",
        "    \"Thursday-WorkingHours-Afternoon-Infilteration.pcap_ISCX.csv\",\n",
        "    \"Wednesday-workingHours.pcap_ISCX.csv\",\n",
        "    \"Thursday-WorkingHours-Morning-WebAttacks.pcap_ISCX.csv\",\n",
        "    \"Monday-WorkingHours.pcap_ISCX.csv\",\n",
        "    \"Tuesday-WorkingHours.pcap_ISCX.csv\",\n",
        "    \"Friday-WorkingHours-Afternoon-PortScan.pcap_ISCX.csv\",\n",
        "    \"Friday-WorkingHours-Afternoon-DDos.pcap_ISCX.csv\"\n",
        "]"
      ]
    },
    {
      "cell_type": "code",
      "source": [
        "# Combine all CSV files into a single dataframe\n",
        "dataframes = []\n",
        "for file in all_files:\n",
        "    # Make sure to replace with the correct file path\n",
        "    df = pd.read_csv(os.path.join(path, file))\n",
        "    dataframes.append(df)"
      ],
      "metadata": {
        "id": "DpECpDbiu39p"
      },
      "execution_count": 3,
      "outputs": []
    },
    {
      "cell_type": "code",
      "source": [
        "# Concatenate all dataframes\n",
        "df = pd.concat(dataframes, ignore_index=True)"
      ],
      "metadata": {
        "id": "7KORwlU7u7Fk"
      },
      "execution_count": 4,
      "outputs": []
    },
    {
      "cell_type": "code",
      "source": [
        "# Data cleaning: Replace infinity with NaN and drop rows with NaN values\n",
        "df.replace([np.inf, -np.inf], np.nan, inplace=True)\n",
        "df.dropna(inplace=True)"
      ],
      "metadata": {
        "id": "3asjEormu-ZU"
      },
      "execution_count": 5,
      "outputs": []
    },
    {
      "cell_type": "code",
      "source": [
        "# Extract features and labels\n",
        "X = np.array(df.drop(columns=' Label'))\n",
        "y = np.array(df[' Label'])"
      ],
      "metadata": {
        "id": "9gAdvyUGvCMZ"
      },
      "execution_count": 6,
      "outputs": []
    },
    {
      "cell_type": "code",
      "source": [
        "# Encode labels\n",
        "label_encoder = LabelEncoder()\n",
        "y = label_encoder.fit_transform(y)"
      ],
      "metadata": {
        "id": "RVC84SdUvE0V"
      },
      "execution_count": 7,
      "outputs": []
    },
    {
      "cell_type": "code",
      "source": [
        "# Standardize features\n",
        "scaler = StandardScaler()\n",
        "X_scaled = scaler.fit_transform(X)"
      ],
      "metadata": {
        "id": "vWY7LjoYvHyh"
      },
      "execution_count": 8,
      "outputs": []
    },
    {
      "cell_type": "code",
      "source": [
        "# Split data\n",
        "X_train, X_test, y_train, y_test = train_test_split(X_scaled, y, test_size=0.3, random_state=42)"
      ],
      "metadata": {
        "id": "-QWC9ykkvJ_g"
      },
      "execution_count": 9,
      "outputs": []
    },
    {
      "cell_type": "code",
      "source": [
        "# Build the neural network model\n",
        "model = Sequential()\n",
        "model.add(Dense(256, input_dim=X_train.shape[1], activation='relu'))\n",
        "model.add(Dropout(0.3))\n",
        "model.add(Dense(128, activation='relu'))\n",
        "model.add(Dropout(0.4))\n",
        "model.add(Dense(64, activation='relu'))\n",
        "model.add(Dropout(0.5))\n",
        "model.add(Dense(32, activation='relu'))\n",
        "model.add(Dropout(0.5))\n",
        "model.add(Dense(len(np.unique(y)), activation='softmax'))"
      ],
      "metadata": {
        "colab": {
          "base_uri": "https://localhost:8080/"
        },
        "id": "ccZChoOrvMXS",
        "outputId": "5ca737c8-c8fc-4a8b-e8bc-1f6fb3fa6e8b"
      },
      "execution_count": 10,
      "outputs": [
        {
          "output_type": "stream",
          "name": "stderr",
          "text": [
            "/usr/local/lib/python3.10/dist-packages/keras/src/layers/core/dense.py:87: UserWarning: Do not pass an `input_shape`/`input_dim` argument to a layer. When using Sequential models, prefer using an `Input(shape)` object as the first layer in the model instead.\n",
            "  super().__init__(activity_regularizer=activity_regularizer, **kwargs)\n"
          ]
        }
      ]
    },
    {
      "cell_type": "code",
      "source": [
        "# Compile the model\n",
        "model.compile(optimizer='adam', loss='sparse_categorical_crossentropy', metrics=['accuracy'])"
      ],
      "metadata": {
        "id": "_CpIBuhzvPhl"
      },
      "execution_count": 11,
      "outputs": []
    },
    {
      "cell_type": "code",
      "source": [
        "# Set up EarlyStopping\n",
        "early_stopping = EarlyStopping(monitor='val_loss', patience=5, restore_best_weights=True)"
      ],
      "metadata": {
        "id": "faJUZVboE9Y7"
      },
      "execution_count": 12,
      "outputs": []
    },
    {
      "cell_type": "code",
      "source": [
        "# Train the model with validation split and early stopping\n",
        "history = model.fit(X_train, y_train, epochs=20, batch_size=64, validation_split=0.2, verbose=2, callbacks=[early_stopping])"
      ],
      "metadata": {
        "colab": {
          "base_uri": "https://localhost:8080/"
        },
        "id": "mEdavPZfvR0K",
        "outputId": "d9f4f395-9e42-4cc8-b10e-81862cadcb0e"
      },
      "execution_count": 13,
      "outputs": [
        {
          "output_type": "stream",
          "name": "stdout",
          "text": [
            "Epoch 1/20\n",
            "24744/24744 - 66s - 3ms/step - accuracy: 0.9565 - loss: 0.1338 - val_accuracy: 0.9687 - val_loss: 0.0771\n",
            "Epoch 2/20\n",
            "24744/24744 - 55s - 2ms/step - accuracy: 0.9648 - loss: 0.0966 - val_accuracy: 0.9704 - val_loss: 0.0724\n",
            "Epoch 3/20\n",
            "24744/24744 - 55s - 2ms/step - accuracy: 0.9665 - loss: 0.0910 - val_accuracy: 0.9729 - val_loss: 0.0649\n",
            "Epoch 4/20\n",
            "24744/24744 - 81s - 3ms/step - accuracy: 0.9677 - loss: 0.0888 - val_accuracy: 0.9757 - val_loss: 0.0625\n",
            "Epoch 5/20\n",
            "24744/24744 - 80s - 3ms/step - accuracy: 0.9687 - loss: 0.0889 - val_accuracy: 0.9746 - val_loss: 0.0679\n",
            "Epoch 6/20\n",
            "24744/24744 - 84s - 3ms/step - accuracy: 0.9693 - loss: 0.0855 - val_accuracy: 0.9734 - val_loss: 0.0650\n",
            "Epoch 7/20\n",
            "24744/24744 - 53s - 2ms/step - accuracy: 0.9699 - loss: 0.0849 - val_accuracy: 0.9750 - val_loss: 0.0606\n",
            "Epoch 8/20\n",
            "24744/24744 - 54s - 2ms/step - accuracy: 0.9700 - loss: 0.0852 - val_accuracy: 0.9753 - val_loss: 0.0590\n",
            "Epoch 9/20\n",
            "24744/24744 - 81s - 3ms/step - accuracy: 0.9705 - loss: 0.0854 - val_accuracy: 0.9751 - val_loss: 0.0600\n",
            "Epoch 10/20\n",
            "24744/24744 - 53s - 2ms/step - accuracy: 0.9707 - loss: 0.0848 - val_accuracy: 0.9747 - val_loss: 0.0605\n",
            "Epoch 11/20\n",
            "24744/24744 - 56s - 2ms/step - accuracy: 0.9714 - loss: 0.0828 - val_accuracy: 0.9815 - val_loss: 0.0582\n",
            "Epoch 12/20\n",
            "24744/24744 - 79s - 3ms/step - accuracy: 0.9723 - loss: 0.0826 - val_accuracy: 0.9799 - val_loss: 0.0552\n",
            "Epoch 13/20\n",
            "24744/24744 - 82s - 3ms/step - accuracy: 0.9725 - loss: 0.0846 - val_accuracy: 0.9816 - val_loss: 0.0534\n",
            "Epoch 14/20\n",
            "24744/24744 - 53s - 2ms/step - accuracy: 0.9730 - loss: 0.0818 - val_accuracy: 0.9801 - val_loss: 0.0514\n",
            "Epoch 15/20\n",
            "24744/24744 - 82s - 3ms/step - accuracy: 0.9727 - loss: 0.0887 - val_accuracy: 0.9805 - val_loss: 0.0551\n",
            "Epoch 16/20\n",
            "24744/24744 - 53s - 2ms/step - accuracy: 0.9733 - loss: 0.0837 - val_accuracy: 0.9863 - val_loss: 0.0536\n",
            "Epoch 17/20\n",
            "24744/24744 - 84s - 3ms/step - accuracy: 0.9734 - loss: 0.0866 - val_accuracy: 0.9790 - val_loss: 0.0544\n",
            "Epoch 18/20\n",
            "24744/24744 - 56s - 2ms/step - accuracy: 0.9738 - loss: 0.0857 - val_accuracy: 0.9796 - val_loss: 0.0554\n",
            "Epoch 19/20\n",
            "24744/24744 - 54s - 2ms/step - accuracy: 0.9726 - loss: 0.0862 - val_accuracy: 0.9795 - val_loss: 0.0576\n"
          ]
        }
      ]
    },
    {
      "cell_type": "code",
      "source": [
        "# Evaluate the model\n",
        "loss, accuracy = model.evaluate(X_test, y_test, verbose=2)\n",
        "print(f\"Test Accuracy: {accuracy*100:.2f}%\")"
      ],
      "metadata": {
        "colab": {
          "base_uri": "https://localhost:8080/"
        },
        "id": "ZJDpdAZvvTxX",
        "outputId": "967481f5-a1f9-4f3e-da22-a77a4b4a8a23"
      },
      "execution_count": 14,
      "outputs": [
        {
          "output_type": "stream",
          "name": "stdout",
          "text": [
            "26512/26512 - 38s - 1ms/step - accuracy: 0.9804 - loss: 0.0512\n",
            "Test Accuracy: 98.04%\n"
          ]
        }
      ]
    },
    {
      "cell_type": "code",
      "source": [
        "# Make predictions\n",
        "y_pred = model.predict(X_test)\n",
        "y_pred = np.argmax(y_pred, axis=1)"
      ],
      "metadata": {
        "colab": {
          "base_uri": "https://localhost:8080/"
        },
        "id": "IvcbrSLCvV5h",
        "outputId": "36e1db2a-6645-48b0-d623-2c4944e25a28"
      },
      "execution_count": 15,
      "outputs": [
        {
          "output_type": "stream",
          "name": "stdout",
          "text": [
            "\u001b[1m26512/26512\u001b[0m \u001b[32m━━━━━━━━━━━━━━━━━━━━\u001b[0m\u001b[37m\u001b[0m \u001b[1m36s\u001b[0m 1ms/step\n"
          ]
        }
      ]
    },
    {
      "cell_type": "code",
      "source": [
        "# Classification report\n",
        "print(classification_report(y_test, y_pred, target_names=label_encoder.classes_))"
      ],
      "metadata": {
        "colab": {
          "base_uri": "https://localhost:8080/"
        },
        "id": "qx8VoOjNvX3Z",
        "outputId": "87a8d827-86e8-422d-9409-ddff77a24bae"
      },
      "execution_count": 16,
      "outputs": [
        {
          "output_type": "stream",
          "name": "stderr",
          "text": [
            "/usr/local/lib/python3.10/dist-packages/sklearn/metrics/_classification.py:1531: UndefinedMetricWarning: Precision is ill-defined and being set to 0.0 in labels with no predicted samples. Use `zero_division` parameter to control this behavior.\n",
            "  _warn_prf(average, modifier, f\"{metric.capitalize()} is\", len(result))\n",
            "/usr/local/lib/python3.10/dist-packages/sklearn/metrics/_classification.py:1531: UndefinedMetricWarning: Precision is ill-defined and being set to 0.0 in labels with no predicted samples. Use `zero_division` parameter to control this behavior.\n",
            "  _warn_prf(average, modifier, f\"{metric.capitalize()} is\", len(result))\n"
          ]
        },
        {
          "output_type": "stream",
          "name": "stdout",
          "text": [
            "                            precision    recall  f1-score   support\n",
            "\n",
            "                    BENIGN       0.98      0.99      0.99    681289\n",
            "                       Bot       0.00      0.00      0.00       559\n",
            "                      DDoS       1.00      0.98      0.99     38540\n",
            "             DoS GoldenEye       0.96      0.97      0.97      3088\n",
            "                  DoS Hulk       0.99      0.89      0.94     68991\n",
            "          DoS Slowhttptest       0.83      0.85      0.84      1643\n",
            "             DoS slowloris       0.72      0.94      0.81      1735\n",
            "               FTP-Patator       0.97      0.99      0.98      2300\n",
            "                Heartbleed       0.00      0.00      0.00         1\n",
            "              Infiltration       0.00      0.00      0.00         9\n",
            "                  PortScan       0.91      0.98      0.94     47782\n",
            "               SSH-Patator       0.84      0.98      0.90      1767\n",
            "  Web Attack � Brute Force       0.00      0.00      0.00       464\n",
            "Web Attack � Sql Injection       0.00      0.00      0.00         8\n",
            "          Web Attack � XSS       0.00      0.00      0.00       187\n",
            "\n",
            "                  accuracy                           0.98    848363\n",
            "                 macro avg       0.55      0.57      0.56    848363\n",
            "              weighted avg       0.98      0.98      0.98    848363\n",
            "\n"
          ]
        },
        {
          "output_type": "stream",
          "name": "stderr",
          "text": [
            "/usr/local/lib/python3.10/dist-packages/sklearn/metrics/_classification.py:1531: UndefinedMetricWarning: Precision is ill-defined and being set to 0.0 in labels with no predicted samples. Use `zero_division` parameter to control this behavior.\n",
            "  _warn_prf(average, modifier, f\"{metric.capitalize()} is\", len(result))\n"
          ]
        }
      ]
    },
    {
      "cell_type": "code",
      "source": [
        "# Confusion matrix\n",
        "cm = confusion_matrix(y_test, y_pred)\n",
        "print(\"Confusion Matrix:\")\n",
        "print(cm)"
      ],
      "metadata": {
        "colab": {
          "base_uri": "https://localhost:8080/"
        },
        "id": "gZngn5vfvZw-",
        "outputId": "a5b11c77-a6d6-4d7e-ad93-339ab4a0ddcb"
      },
      "execution_count": 17,
      "outputs": [
        {
          "output_type": "stream",
          "name": "stdout",
          "text": [
            "Confusion Matrix:\n",
            "[[675380      0     33    118    317    233    349     74      0      0\n",
            "    4494    291      0      0      0]\n",
            " [   559      0      0      0      0      0      0      0      0      0\n",
            "       0      0      0      0      0]\n",
            " [   567      0  37954      7      1      0     11      0      0      0\n",
            "       0      0      0      0      0]\n",
            " [    69      0      0   3003      0      1     15      0      0      0\n",
            "       0      0      0      0      0]\n",
            " [  7409      0      0      1  61577      0      4      0      0      0\n",
            "       0      0      0      0      0]\n",
            " [    11      0      0      1      0   1400    229      0      0      0\n",
            "       0      2      0      0      0]\n",
            " [    47      0      0      0      0     51   1636      0      0      0\n",
            "       0      1      0      0      0]\n",
            " [    10      0      0      0      0      0     15   2274      0      0\n",
            "       0      1      0      0      0]\n",
            " [     1      0      0      0      0      0      0      0      0      0\n",
            "       0      0      0      0      0]\n",
            " [     9      0      0      0      0      0      0      0      0      0\n",
            "       0      0      0      0      0]\n",
            " [   988      0      0      0      0      0     22      0      0      0\n",
            "   46772      0      0      0      0]\n",
            " [    34      0      0      0      0      0      1      1      0      0\n",
            "       0   1731      0      0      0]\n",
            " [   426      0      0      0      0      0      0      0      0      0\n",
            "       1     37      0      0      0]\n",
            " [     1      0      0      2      0      0      0      0      0      0\n",
            "       0      5      0      0      0]\n",
            " [   185      0      0      1      1      0      0      0      0      0\n",
            "       0      0      0      0      0]]\n"
          ]
        }
      ]
    },
    {
      "cell_type": "code",
      "source": [
        "# Calculate FPR and FNR\n",
        "FP = cm.sum(axis=0) - np.diag(cm)  # False Positives\n",
        "FN = cm.sum(axis=1) - np.diag(cm)  # False Negatives\n",
        "TP = np.diag(cm)                   # True Positives\n",
        "TN = cm.sum() - (FP + FN + TP)     # True Negatives\n",
        "\n",
        "# False Positive Rate and False Negative Rate\n",
        "FPR = FP / (FP + TN)\n",
        "FNR = FN / (FN + TP)\n",
        "\n",
        "print(f\"False Positive Rates: {FPR}\")\n",
        "print(f\"False Negative Rates: {FNR}\")"
      ],
      "metadata": {
        "colab": {
          "base_uri": "https://localhost:8080/"
        },
        "id": "uMuyAP5IvbpK",
        "outputId": "41f48445-e403-4bb3-f5b4-70eef155b14e"
      },
      "execution_count": 18,
      "outputs": [
        {
          "output_type": "stream",
          "name": "stdout",
          "text": [
            "False Positive Rates: [6.17450950e-02 0.00000000e+00 4.07496453e-05 1.53796102e-04\n",
            " 4.09303901e-04 3.36592971e-04 7.63026973e-04 8.86458810e-05\n",
            " 0.00000000e+00 0.00000000e+00 5.61467234e-03 3.98064720e-04\n",
            " 0.00000000e+00 0.00000000e+00 0.00000000e+00]\n",
            "False Negative Rates: [0.00867326 1.         0.01520498 0.02752591 0.10746329 0.14790018\n",
            " 0.05706052 0.01130435 1.         1.         0.02113767 0.02037351\n",
            " 1.         1.         1.        ]\n"
          ]
        }
      ]
    },
    {
      "cell_type": "code",
      "source": [
        "# Plot training history\n",
        "plt.figure(figsize=(12, 6))\n",
        "plt.plot(history.history['accuracy'], label='accuracy')\n",
        "plt.plot(history.history['val_accuracy'], label = 'val_accuracy')\n",
        "plt.xlabel('Epoch')\n",
        "plt.ylabel('Accuracy')\n",
        "plt.legend(loc='lower right')\n",
        "plt.show()"
      ],
      "metadata": {
        "colab": {
          "base_uri": "https://localhost:8080/",
          "height": 542
        },
        "id": "gr0mEOPLvd7e",
        "outputId": "b9e9a867-5ead-46b4-f54e-25fb1cc6006d"
      },
      "execution_count": 19,
      "outputs": [
        {
          "output_type": "display_data",
          "data": {
            "text/plain": [
              "<Figure size 1200x600 with 1 Axes>"
            ],
            "image/png": "[encoded data removed]"
          },
          "metadata": {}
        }
      ]
    },
    {
      "cell_type": "code",
      "source": [
        "# GridSearchCV for Hyperparameter Tuning\n",
        "!pip install scikeras\n",
        "from scikeras.wrappers import KerasClassifier\n",
        "\n",
        "def create_model():\n",
        "    model = Sequential()\n",
        "    model.add(Dense(256, input_dim=X_train.shape[1], activation='relu'))\n",
        "    model.add(Dropout(0.3))\n",
        "    model.add(Dense(128, activation='relu'))\n",
        "    model.add(Dropout(0.4))\n",
        "    model.add(Dense(64, activation='relu'))\n",
        "    model.add(Dropout(0.5))\n",
        "    model.add(Dense(32, activation='relu'))\n",
        "    model.add(Dropout(0.5))\n",
        "    model.add(Dense(len(np.unique(y)), activation='softmax'))\n",
        "    model.compile(optimizer='adam', loss='sparse_categorical_crossentropy', metrics=['accuracy'])\n",
        "    return model\n",
        "\n",
        "model = KerasClassifier(build_fn=create_model, verbose=0)"
      ],
      "metadata": {
        "colab": {
          "base_uri": "https://localhost:8080/"
        },
        "id": "V6KwRyNIFVUd",
        "outputId": "eb7bec87-cb33-439d-eef2-88b33210d2fe"
      },
      "execution_count": 24,
      "outputs": [
        {
          "output_type": "stream",
          "name": "stdout",
          "text": [
            "Collecting scikeras\n",
            "  Downloading scikeras-0.13.0-py3-none-any.whl.metadata (3.1 kB)\n",
            "Requirement already satisfied: keras>=3.2.0 in /usr/local/lib/python3.10/dist-packages (from scikeras) (3.5.0)\n",
            "Requirement already satisfied: scikit-learn>=1.4.2 in /usr/local/lib/python3.10/dist-packages (from scikeras) (1.5.2)\n",
            "Requirement already satisfied: absl-py in /usr/local/lib/python3.10/dist-packages (from keras>=3.2.0->scikeras) (1.4.0)\n",
            "Requirement already satisfied: numpy in /usr/local/lib/python3.10/dist-packages (from keras>=3.2.0->scikeras) (1.26.4)\n",
            "Requirement already satisfied: rich in /usr/local/lib/python3.10/dist-packages (from keras>=3.2.0->scikeras) (13.9.4)\n",
            "Requirement already satisfied: namex in /usr/local/lib/python3.10/dist-packages (from keras>=3.2.0->scikeras) (0.0.8)\n",
            "Requirement already satisfied: h5py in /usr/local/lib/python3.10/dist-packages (from keras>=3.2.0->scikeras) (3.12.1)\n",
            "Requirement already satisfied: optree in /usr/local/lib/python3.10/dist-packages (from keras>=3.2.0->scikeras) (0.13.1)\n",
            "Requirement already satisfied: ml-dtypes in /usr/local/lib/python3.10/dist-packages (from keras>=3.2.0->scikeras) (0.4.1)\n",
            "Requirement already satisfied: packaging in /usr/local/lib/python3.10/dist-packages (from keras>=3.2.0->scikeras) (24.2)\n",
            "Requirement already satisfied: scipy>=1.6.0 in /usr/local/lib/python3.10/dist-packages (from scikit-learn>=1.4.2->scikeras) (1.13.1)\n",
            "Requirement already satisfied: joblib>=1.2.0 in /usr/local/lib/python3.10/dist-packages (from scikit-learn>=1.4.2->scikeras) (1.4.2)\n",
            "Requirement already satisfied: threadpoolctl>=3.1.0 in /usr/local/lib/python3.10/dist-packages (from scikit-learn>=1.4.2->scikeras) (3.5.0)\n",
            "Requirement already satisfied: typing-extensions>=4.5.0 in /usr/local/lib/python3.10/dist-packages (from optree->keras>=3.2.0->scikeras) (4.12.2)\n",
            "Requirement already satisfied: markdown-it-py>=2.2.0 in /usr/local/lib/python3.10/dist-packages (from rich->keras>=3.2.0->scikeras) (3.0.0)\n",
            "Requirement already satisfied: pygments<3.0.0,>=2.13.0 in /usr/local/lib/python3.10/dist-packages (from rich->keras>=3.2.0->scikeras) (2.18.0)\n",
            "Requirement already satisfied: mdurl~=0.1 in /usr/local/lib/python3.10/dist-packages (from markdown-it-py>=2.2.0->rich->keras>=3.2.0->scikeras) (0.1.2)\n",
            "Downloading scikeras-0.13.0-py3-none-any.whl (26 kB)\n",
            "Installing collected packages: scikeras\n",
            "Successfully installed scikeras-0.13.0\n"
          ]
        }
      ]
    },
    {
      "cell_type": "code",
      "source": [
        "# Hyperparameter tuning with GridSearchCV\n",
        "param_grid = {\n",
        "    'batch_size': [32, 64],\n",
        "    'epochs': [10, 20],\n",
        "    'dropout_rate': [0.3, 0.4, 0.5]\n",
        "}"
      ],
      "metadata": {
        "id": "4xWZL8JlFWU5"
      },
      "execution_count": 25,
      "outputs": []
    },
    {
      "cell_type": "code",
      "source": [
        "grid = GridSearchCV(estimator=model, param_grid=param_grid, n_jobs=-1, cv=3)\n",
        "grid_result = grid.fit(X_train, y_train)\n",
        "\n",
        "# Print the best parameters and the corresponding accuracy\n",
        "print(f\"Best: {grid_result.best_score_} using {grid_result.best_params_}\")"
      ],
      "metadata": {
        "id": "-_kCWLBsFeNv"
      },
      "execution_count": null,
      "outputs": []
    }
  ]
}